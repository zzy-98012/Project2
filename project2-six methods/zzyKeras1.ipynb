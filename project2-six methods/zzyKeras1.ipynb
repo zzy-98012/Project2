{
 "cells": [
  {
   "cell_type": "code",
   "execution_count": 6,
   "metadata": {},
   "outputs": [
    {
     "name": "stdout",
     "output_type": "stream",
     "text": [
      "Extracting MNIST_data/train-images-idx3-ubyte.gz\n",
      "Extracting MNIST_data/train-labels-idx1-ubyte.gz\n",
      "Extracting MNIST_data/t10k-images-idx3-ubyte.gz\n",
      "Extracting MNIST_data/t10k-labels-idx1-ubyte.gz\n"
     ]
    }
   ],
   "source": [
    "import pickle\n",
    "import numpy as np\n",
    "from tensorflow.tutorials.mnist import input_data\n",
    "\n",
    "mnist = input_data.read_data_sets(\"MNIST_data/\", reshape=False)\n",
    "X_train, y_train           = mnist.train.images, mnist.train.labels\n",
    "X_validation, y_validation = mnist.validation.images, mnist.validation.labels\n",
    "X_test, y_test             = mnist.test.images, mnist.test.labels"
   ]
  },
  {
   "cell_type": "code",
   "execution_count": 7,
   "metadata": {},
   "outputs": [
    {
     "name": "stdout",
     "output_type": "stream",
     "text": [
      "Updated Image Shape: (32, 32, 1)\n"
     ]
    }
   ],
   "source": [
    "import numpy as np\n",
    "\n",
    "# Pad images with 0s\n",
    "X_train      = np.pad(X_train, ((0,0),(2,2),(2,2),(0,0)), 'constant')\n",
    "X_validation = np.pad(X_validation, ((0,0),(2,2),(2,2),(0,0)), 'constant')\n",
    "X_test       = np.pad(X_test, ((0,0),(2,2),(2,2),(0,0)), 'constant')\n",
    "    \n",
    "print(\"Updated Image Shape: {}\".format(X_train[0].shape))"
   ]
  },
  {
   "cell_type": "code",
   "execution_count": 8,
   "metadata": {},
   "outputs": [],
   "source": [
    "from sklearn.utils import shuffle\n",
    "\n",
    "X_train, y_train = shuffle(X_train, y_train)"
   ]
  },
  {
   "cell_type": "code",
   "execution_count": 11,
   "metadata": {},
   "outputs": [],
   "source": [
    "# Setup Keras\n",
    "from keras.models import Sequential\n",
    "from keras.layers.core import Dense, Activation, Flatten,Dropout\n",
    "from keras.layers.convolutional import Conv2D\n",
    "from keras.layers.pooling import MaxPooling2D"
   ]
  },
  {
   "cell_type": "code",
   "execution_count": 12,
   "metadata": {},
   "outputs": [],
   "source": [
    "model = Sequential()\n",
    "model.add(Conv2D(16, (3, 3), input_shape=(32, 32, 1)))\n",
    "model.add(MaxPooling2D((2, 2)))\n",
    "model.add(Activation('relu'))\n",
    "model.add(Conv2D(32, (3, 3), input_shape=(15, 15, 16)))\n",
    "model.add(MaxPooling2D((2, 2)))\n",
    "model.add(Dropout(0.5))\n",
    "model.add(Activation('relu'))\n",
    "model.add(Flatten())\n",
    "model.add(Dense(512))\n",
    "model.add(Activation('relu'))\n",
    "model.add(Dense(10))\n",
    "model.add(Activation('softmax'))"
   ]
  },
  {
   "cell_type": "code",
   "execution_count": 13,
   "metadata": {},
   "outputs": [
    {
     "name": "stdout",
     "output_type": "stream",
     "text": [
      "Epoch 1/10\n",
      "1375/1375 [==============================] - 37s 26ms/step - loss: 0.4432 - accuracy: 0.8573 - val_loss: 0.0743 - val_accuracy: 0.9754\n",
      "Epoch 2/10\n",
      "1375/1375 [==============================] - 38s 28ms/step - loss: 0.0943 - accuracy: 0.9699 - val_loss: 0.0505 - val_accuracy: 0.9824\n",
      "Epoch 3/10\n",
      "1375/1375 [==============================] - 38s 28ms/step - loss: 0.0666 - accuracy: 0.9797 - val_loss: 0.0487 - val_accuracy: 0.9832\n",
      "Epoch 4/10\n",
      "1375/1375 [==============================] - 38s 27ms/step - loss: 0.0552 - accuracy: 0.9807 - val_loss: 0.0329 - val_accuracy: 0.9891\n",
      "Epoch 5/10\n",
      "1375/1375 [==============================] - 37s 27ms/step - loss: 0.0462 - accuracy: 0.9851 - val_loss: 0.0316 - val_accuracy: 0.9894\n",
      "Epoch 6/10\n",
      "1375/1375 [==============================] - 36s 26ms/step - loss: 0.0409 - accuracy: 0.9865 - val_loss: 0.0319 - val_accuracy: 0.9893\n",
      "Epoch 7/10\n",
      "1375/1375 [==============================] - 34s 25ms/step - loss: 0.0351 - accuracy: 0.9890 - val_loss: 0.0359 - val_accuracy: 0.9881\n",
      "Epoch 8/10\n",
      "1375/1375 [==============================] - 37s 27ms/step - loss: 0.0319 - accuracy: 0.9890 - val_loss: 0.0308 - val_accuracy: 0.9906\n",
      "Epoch 9/10\n",
      "1375/1375 [==============================] - 37s 27ms/step - loss: 0.0265 - accuracy: 0.9915 - val_loss: 0.0328 - val_accuracy: 0.9887\n",
      "Epoch 10/10\n",
      "1375/1375 [==============================] - 38s 27ms/step - loss: 0.0267 - accuracy: 0.9916 - val_loss: 0.0274 - val_accuracy: 0.9915\n"
     ]
    }
   ],
   "source": [
    "# preprocess data\n",
    "\n",
    "from sklearn.preprocessing import LabelBinarizer\n",
    "label_binarizer = LabelBinarizer()\n",
    "y_one_hot = label_binarizer.fit_transform(y_train)\n",
    "\n",
    "model.compile('adam', 'categorical_crossentropy', ['accuracy'])\n",
    "history = model.fit(X_train, y_one_hot, epochs=10, validation_split=0.2)"
   ]
  },
  {
   "cell_type": "code",
   "execution_count": 14,
   "metadata": {},
   "outputs": [
    {
     "name": "stdout",
     "output_type": "stream",
     "text": [
      "313/313 [==============================] - 2s 7ms/step - loss: 0.0227 - accuracy: 0.9933\n",
      "Test loss: 0.022692305967211723\n",
      "Accuracy: 0.9933000206947327\n"
     ]
    }
   ],
   "source": [
    "# Evaluate the Model\n",
    "label_binarizer = LabelBinarizer()\n",
    "y_one_hot_test = label_binarizer.fit_transform(y_test)\n",
    "loss, accuracy = model.evaluate(X_test, y_one_hot_test)\n",
    "print('Test loss:', loss)\n",
    "print('Accuracy:', accuracy)\n",
    "\n",
    "# 保存\n",
    "model.save('mnistmodel.h5')"
   ]
  },
  {
   "cell_type": "code",
   "execution_count": null,
   "metadata": {},
   "outputs": [],
   "source": []
  }
 ],
 "metadata": {
  "kernelspec": {
   "display_name": "Python 3",
   "language": "python",
   "name": "python3"
  },
  "language_info": {
   "codemirror_mode": {
    "name": "ipython",
    "version": 3
   },
   "file_extension": ".py",
   "mimetype": "text/x-python",
   "name": "python",
   "nbconvert_exporter": "python",
   "pygments_lexer": "ipython3",
   "version": "3.8.5"
  }
 },
 "nbformat": 4,
 "nbformat_minor": 4
}
