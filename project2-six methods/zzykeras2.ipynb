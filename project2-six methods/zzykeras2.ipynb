{
 "cells": [
  {
   "cell_type": "code",
   "execution_count": 2,
   "metadata": {},
   "outputs": [
    {
     "name": "stdout",
     "output_type": "stream",
     "text": [
      "Extracting MNIST_data/train-images-idx3-ubyte.gz\n",
      "Extracting MNIST_data/train-labels-idx1-ubyte.gz\n",
      "Extracting MNIST_data/t10k-images-idx3-ubyte.gz\n",
      "Extracting MNIST_data/t10k-labels-idx1-ubyte.gz\n"
     ]
    }
   ],
   "source": [
    "import pickle\n",
    "import numpy as np\n",
    "from tensorflow.tutorials.mnist import input_data\n",
    "\n",
    "mnist = input_data.read_data_sets(\"MNIST_data/\", reshape=False)\n",
    "X_train, y_train           = mnist.train.images, mnist.train.labels\n",
    "X_validation, y_validation = mnist.validation.images, mnist.validation.labels\n",
    "X_test, y_test             = mnist.test.images, mnist.test.labels"
   ]
  },
  {
   "cell_type": "code",
   "execution_count": 3,
   "metadata": {},
   "outputs": [
    {
     "name": "stdout",
     "output_type": "stream",
     "text": [
      "Updated Image Shape: (32, 32, 1)\n"
     ]
    }
   ],
   "source": [
    "import numpy as np\n",
    "\n",
    "# Pad images with 0s\n",
    "X_train      = np.pad(X_train, ((0,0),(2,2),(2,2),(0,0)), 'constant')\n",
    "X_validation = np.pad(X_validation, ((0,0),(2,2),(2,2),(0,0)), 'constant')\n",
    "X_test       = np.pad(X_test, ((0,0),(2,2),(2,2),(0,0)), 'constant')\n",
    "    \n",
    "print(\"Updated Image Shape: {}\".format(X_train[0].shape))"
   ]
  },
  {
   "cell_type": "code",
   "execution_count": 4,
   "metadata": {},
   "outputs": [],
   "source": [
    "from sklearn.utils import shuffle\n",
    "\n",
    "X_train, y_train = shuffle(X_train, y_train)"
   ]
  },
  {
   "cell_type": "code",
   "execution_count": 5,
   "metadata": {},
   "outputs": [],
   "source": [
    "# Setup Keras\n",
    "from keras.models import Sequential\n",
    "from keras.layers.core import Dense, Activation, Flatten\n",
    "from keras.layers.convolutional import Conv2D\n",
    "from keras.layers.pooling import MaxPooling2D"
   ]
  },
  {
   "cell_type": "code",
   "execution_count": 6,
   "metadata": {},
   "outputs": [],
   "source": [
    "model = Sequential()\n",
    "model.add(Conv2D(16, (3, 3), input_shape=(32, 32, 1)))\n",
    "model.add(MaxPooling2D((2, 2)))\n",
    "model.add(Activation('relu'))\n",
    "model.add(Conv2D(32, (3, 3), input_shape=(15, 15, 16)))\n",
    "model.add(MaxPooling2D((2, 2)))\n",
    "model.add(Activation('relu'))\n",
    "model.add(Flatten())\n",
    "model.add(Dense(512))\n",
    "model.add(Activation('relu'))\n",
    "model.add(Dense(10))\n",
    "model.add(Activation('softmax'))"
   ]
  },
  {
   "cell_type": "code",
   "execution_count": 7,
   "metadata": {},
   "outputs": [
    {
     "name": "stdout",
     "output_type": "stream",
     "text": [
      "Epoch 1/10\n",
      "1375/1375 [==============================] - 41s 29ms/step - loss: 0.3499 - accuracy: 0.8962 - val_loss: 0.0576 - val_accuracy: 0.9843\n",
      "Epoch 2/10\n",
      "1375/1375 [==============================] - 37s 27ms/step - loss: 0.0490 - accuracy: 0.9850 - val_loss: 0.0487 - val_accuracy: 0.9852\n",
      "Epoch 3/10\n",
      "1375/1375 [==============================] - 39s 28ms/step - loss: 0.0297 - accuracy: 0.9904 - val_loss: 0.0450 - val_accuracy: 0.9867\n",
      "Epoch 4/10\n",
      "1375/1375 [==============================] - 40s 29ms/step - loss: 0.0205 - accuracy: 0.9937 - val_loss: 0.0395 - val_accuracy: 0.9890\n",
      "Epoch 5/10\n",
      "1375/1375 [==============================] - 36s 26ms/step - loss: 0.0156 - accuracy: 0.9941 - val_loss: 0.0367 - val_accuracy: 0.9903\n",
      "Epoch 6/10\n",
      "1375/1375 [==============================] - 35s 25ms/step - loss: 0.0080 - accuracy: 0.9972 - val_loss: 0.0465 - val_accuracy: 0.9885\n",
      "Epoch 7/10\n",
      "1375/1375 [==============================] - 36s 26ms/step - loss: 0.0079 - accuracy: 0.9973 - val_loss: 0.0456 - val_accuracy: 0.9901\n",
      "Epoch 8/10\n",
      "1375/1375 [==============================] - 36s 26ms/step - loss: 0.0069 - accuracy: 0.9975 - val_loss: 0.0460 - val_accuracy: 0.9900\n",
      "Epoch 9/10\n",
      "1375/1375 [==============================] - 34s 25ms/step - loss: 0.0060 - accuracy: 0.9982 - val_loss: 0.0499 - val_accuracy: 0.9900\n",
      "Epoch 10/10\n",
      "1375/1375 [==============================] - 36s 26ms/step - loss: 0.0065 - accuracy: 0.9979 - val_loss: 0.0488 - val_accuracy: 0.9896\n"
     ]
    }
   ],
   "source": [
    "# preprocess data\n",
    "\n",
    "from sklearn.preprocessing import LabelBinarizer\n",
    "label_binarizer = LabelBinarizer()\n",
    "y_one_hot = label_binarizer.fit_transform(y_train)\n",
    "\n",
    "model.compile('adam', 'categorical_crossentropy', ['accuracy'])\n",
    "history = model.fit(X_train, y_one_hot, epochs=10, validation_split=0.2)"
   ]
  },
  {
   "cell_type": "code",
   "execution_count": 8,
   "metadata": {},
   "outputs": [
    {
     "name": "stdout",
     "output_type": "stream",
     "text": [
      "313/313 [==============================] - 2s 8ms/step - loss: 0.0350 - accuracy: 0.9907\n",
      "Test loss: 0.03497113659977913\n",
      "Accuracy: 0.9907000064849854\n"
     ]
    }
   ],
   "source": [
    "# Evaluate the Model\n",
    "label_binarizer = LabelBinarizer()\n",
    "y_one_hot_test = label_binarizer.fit_transform(y_test)\n",
    "loss, accuracy = model.evaluate(X_test, y_one_hot_test)\n",
    "print('Test loss:', loss)\n",
    "print('Accuracy:', accuracy)\n",
    "\n",
    "# 保存\n",
    "model.save('mnistmodel.h5')"
   ]
  },
  {
   "cell_type": "code",
   "execution_count": null,
   "metadata": {},
   "outputs": [],
   "source": []
  }
 ],
 "metadata": {
  "kernelspec": {
   "display_name": "Python 3",
   "language": "python",
   "name": "python3"
  },
  "language_info": {
   "codemirror_mode": {
    "name": "ipython",
    "version": 3
   },
   "file_extension": ".py",
   "mimetype": "text/x-python",
   "name": "python",
   "nbconvert_exporter": "python",
   "pygments_lexer": "ipython3",
   "version": "3.8.5"
  }
 },
 "nbformat": 4,
 "nbformat_minor": 4
}
