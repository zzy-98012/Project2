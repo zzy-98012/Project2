{
 "cells": [
  {
   "cell_type": "code",
   "execution_count": 2,
   "metadata": {},
   "outputs": [
    {
     "name": "stdout",
     "output_type": "stream",
     "text": [
      "Extracting MNIST_data/train-images-idx3-ubyte.gz\n",
      "Extracting MNIST_data/train-labels-idx1-ubyte.gz\n",
      "Extracting MNIST_data/t10k-images-idx3-ubyte.gz\n",
      "Extracting MNIST_data/t10k-labels-idx1-ubyte.gz\n"
     ]
    }
   ],
   "source": [
    "import pickle\n",
    "import numpy as np\n",
    "from tensorflow.tutorials.mnist import input_data\n",
    "\n",
    "mnist = input_data.read_data_sets(\"MNIST_data/\", reshape=False)\n",
    "X_train, y_train           = mnist.train.images, mnist.train.labels\n",
    "X_validation, y_validation = mnist.validation.images, mnist.validation.labels\n",
    "X_test, y_test             = mnist.test.images, mnist.test.labels"
   ]
  },
  {
   "cell_type": "code",
   "execution_count": 3,
   "metadata": {},
   "outputs": [
    {
     "name": "stdout",
     "output_type": "stream",
     "text": [
      "Updated Image Shape: (32, 32, 1)\n"
     ]
    }
   ],
   "source": [
    "import numpy as np\n",
    "\n",
    "# Pad images with 0s\n",
    "X_train      = np.pad(X_train, ((0,0),(2,2),(2,2),(0,0)), 'constant')\n",
    "X_validation = np.pad(X_validation, ((0,0),(2,2),(2,2),(0,0)), 'constant')\n",
    "X_test       = np.pad(X_test, ((0,0),(2,2),(2,2),(0,0)), 'constant')\n",
    "    \n",
    "print(\"Updated Image Shape: {}\".format(X_train[0].shape))"
   ]
  },
  {
   "cell_type": "code",
   "execution_count": 4,
   "metadata": {},
   "outputs": [],
   "source": [
    "from sklearn.utils import shuffle\n",
    "\n",
    "X_train, y_train = shuffle(X_train, y_train)"
   ]
  },
  {
   "cell_type": "code",
   "execution_count": 5,
   "metadata": {},
   "outputs": [],
   "source": [
    "# Setup Keras\n",
    "from keras.models import Sequential\n",
    "from keras.layers.core import Dense, Activation, Flatten\n",
    "from keras.layers.convolutional import Conv2D\n",
    "from keras.layers.pooling import MaxPooling2D"
   ]
  },
  {
   "cell_type": "code",
   "execution_count": 6,
   "metadata": {},
   "outputs": [],
   "source": [
    "model = Sequential()\n",
    "model.add(Conv2D(16, (3, 3), input_shape=(32, 32, 1)))\n",
    "model.add(MaxPooling2D((2, 2)))\n",
    "model.add(Activation('relu'))\n",
    "model.add(Flatten())\n",
    "model.add(Dense(512))\n",
    "model.add(Activation('relu'))\n",
    "model.add(Dense(10))\n",
    "model.add(Activation('softmax'))"
   ]
  },
  {
   "cell_type": "code",
   "execution_count": 7,
   "metadata": {},
   "outputs": [
    {
     "name": "stdout",
     "output_type": "stream",
     "text": [
      "Epoch 1/10\n",
      "1375/1375 [==============================] - 47s 33ms/step - loss: 0.3291 - accuracy: 0.8997 - val_loss: 0.0749 - val_accuracy: 0.9754\n",
      "Epoch 2/10\n",
      "1375/1375 [==============================] - 44s 32ms/step - loss: 0.0538 - accuracy: 0.9831 - val_loss: 0.0559 - val_accuracy: 0.9829\n",
      "Epoch 3/10\n",
      "1375/1375 [==============================] - 42s 30ms/step - loss: 0.0288 - accuracy: 0.9909 - val_loss: 0.0558 - val_accuracy: 0.9821\n",
      "Epoch 4/10\n",
      "1375/1375 [==============================] - 44s 32ms/step - loss: 0.0176 - accuracy: 0.9947 - val_loss: 0.0489 - val_accuracy: 0.9856\n",
      "Epoch 5/10\n",
      "1375/1375 [==============================] - 43s 32ms/step - loss: 0.0099 - accuracy: 0.9968 - val_loss: 0.0574 - val_accuracy: 0.9835\n",
      "Epoch 6/10\n",
      "1375/1375 [==============================] - 42s 31ms/step - loss: 0.0082 - accuracy: 0.9974 - val_loss: 0.0501 - val_accuracy: 0.9855\n",
      "Epoch 7/10\n",
      "1375/1375 [==============================] - 45s 33ms/step - loss: 0.0068 - accuracy: 0.9979 - val_loss: 0.0545 - val_accuracy: 0.9861\n",
      "Epoch 8/10\n",
      "1375/1375 [==============================] - 44s 32ms/step - loss: 0.0052 - accuracy: 0.9982 - val_loss: 0.0558 - val_accuracy: 0.9857\n",
      "Epoch 9/10\n",
      "1375/1375 [==============================] - 45s 33ms/step - loss: 0.0035 - accuracy: 0.9989 - val_loss: 0.0586 - val_accuracy: 0.9859\n",
      "Epoch 10/10\n",
      "1375/1375 [==============================] - 42s 30ms/step - loss: 0.0029 - accuracy: 0.9991 - val_loss: 0.0547 - val_accuracy: 0.9876\n"
     ]
    }
   ],
   "source": [
    "# preprocess data\n",
    "\n",
    "from sklearn.preprocessing import LabelBinarizer\n",
    "label_binarizer = LabelBinarizer()\n",
    "y_one_hot = label_binarizer.fit_transform(y_train)\n",
    "\n",
    "model.compile('adam', 'categorical_crossentropy', ['accuracy'])\n",
    "history = model.fit(X_train, y_one_hot, epochs=10, validation_split=0.2)"
   ]
  },
  {
   "cell_type": "code",
   "execution_count": 8,
   "metadata": {},
   "outputs": [
    {
     "name": "stdout",
     "output_type": "stream",
     "text": [
      "313/313 [==============================] - 2s 7ms/step - loss: 0.0642 - accuracy: 0.9858\n",
      "Test loss: 0.06418147683143616\n",
      "Accuracy: 0.98580002784729\n"
     ]
    }
   ],
   "source": [
    "# Evaluate the Model\n",
    "label_binarizer = LabelBinarizer()\n",
    "y_one_hot_test = label_binarizer.fit_transform(y_test)\n",
    "loss, accuracy = model.evaluate(X_test, y_one_hot_test)\n",
    "print('Test loss:', loss)\n",
    "print('Accuracy:', accuracy)\n",
    "\n",
    "# 保存\n",
    "model.save('mnistmodel.h5')"
   ]
  },
  {
   "cell_type": "code",
   "execution_count": null,
   "metadata": {},
   "outputs": [],
   "source": []
  }
 ],
 "metadata": {
  "kernelspec": {
   "display_name": "Python 3",
   "language": "python",
   "name": "python3"
  },
  "language_info": {
   "codemirror_mode": {
    "name": "ipython",
    "version": 3
   },
   "file_extension": ".py",
   "mimetype": "text/x-python",
   "name": "python",
   "nbconvert_exporter": "python",
   "pygments_lexer": "ipython3",
   "version": "3.8.5"
  }
 },
 "nbformat": 4,
 "nbformat_minor": 4
}
